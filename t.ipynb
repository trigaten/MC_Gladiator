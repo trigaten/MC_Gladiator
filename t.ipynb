{
 "cells": [
  {
   "cell_type": "code",
   "execution_count": 7,
   "metadata": {},
   "outputs": [],
   "source": [
    "import os\n",
    "import json\n",
    "import numpy as np"
   ]
  },
  {
   "cell_type": "code",
   "execution_count": 49,
   "metadata": {},
   "outputs": [
    {
     "name": "stdout",
     "output_type": "stream",
     "text": [
      "4313\n",
      "43.56565656565657\n",
      "101\n",
      "31\n",
      "87.12121212121212\n",
      "7.02020202020202\n"
     ]
    }
   ],
   "source": [
    "total_frames = 0\n",
    "maximum = -1000\n",
    "minimum = 1000\n",
    "total_actions_taken = 0\n",
    "total_attacks_made = 0\n",
    "for i in range(1, 100):\n",
    "    with open(f\"episodes/{i}/stats.json\", \"r\") as file:\n",
    "        data = json.load(file)\n",
    "        total_frames += len(data)\n",
    "        maximum = max(maximum, len(data))\n",
    "        minimum = min(minimum, len(data))\n",
    "        for i in range(len(data)):\n",
    "            action_dict = data[i][str(i)][\"human\"][\"action\"]\n",
    "            num_actions = 0\n",
    "            for key in action_dict:\n",
    "                if key == \"camera\":\n",
    "                    num_actions += 1 if [\"camera\"] != [0, 0] else 0\n",
    "                elif action_dict[key] != 0:\n",
    "                    num_actions += 1\n",
    "            \n",
    "            total_actions_taken += num_actions\n",
    "            total_attacks_made += action_dict[\"attack\"]\n",
    "\n",
    "print(total_frames)\n",
    "print(total_frames/99)\n",
    "print(maximum)\n",
    "print(minimum)\n",
    "print(total_actions_taken/99)\n",
    "print(total_attacks_made/99)"
   ]
  },
  {
   "cell_type": "code",
   "execution_count": 46,
   "metadata": {},
   "outputs": [
    {
     "name": "stdout",
     "output_type": "stream",
     "text": [
      "66\n",
      "0.6666666666666666\n",
      "1\n",
      "4\n",
      "5\n"
     ]
    }
   ],
   "source": [
    "total = 0\n",
    "minimum = 1000\n",
    "maximum = -1000\n",
    "attacks = 0\n",
    "for i in range(len(data)):\n",
    "    action_dict = data[i][str(i)][\"human\"][\"action\"]\n",
    "    num_actions = 0\n",
    "    for key in action_dict:\n",
    "        if key == \"camera\":\n",
    "            num_actions += 1 if [\"camera\"] != [0, 0] else 0\n",
    "        elif action_dict[key] != 0:\n",
    "            num_actions += 1\n",
    "    \n",
    "    total += num_actions\n",
    "    minimum = min(minimum, num_actions)\n",
    "    maximum = max(maximum, num_actions)\n",
    "    attacks += action_dict[\"attack\"]\n",
    "\n",
    "\n",
    "print(total)\n",
    "print(total/99)\n",
    "print(minimum)\n",
    "print(maximum)\n",
    "print(attacks)"
   ]
  },
  {
   "cell_type": "code",
   "execution_count": 45,
   "metadata": {},
   "outputs": [
    {
     "data": {
      "text/plain": [
       "{'ESC': 0,\n",
       " 'attack': 1,\n",
       " 'back': 0,\n",
       " 'drop': 0,\n",
       " 'forward': 1,\n",
       " 'hotbar.1': 0,\n",
       " 'hotbar.2': 0,\n",
       " 'hotbar.3': 0,\n",
       " 'hotbar.4': 0,\n",
       " 'hotbar.5': 0,\n",
       " 'hotbar.6': 0,\n",
       " 'hotbar.7': 0,\n",
       " 'hotbar.8': 0,\n",
       " 'hotbar.9': 0,\n",
       " 'inventory': 0,\n",
       " 'jump': 0,\n",
       " 'left': 0,\n",
       " 'pickItem': 0,\n",
       " 'right': 0,\n",
       " 'sneak': 0,\n",
       " 'sprint': 0,\n",
       " 'swapHands': 0,\n",
       " 'use': 0,\n",
       " 'camera': [0.4, 0.4]}"
      ]
     },
     "execution_count": 45,
     "metadata": {},
     "output_type": "execute_result"
    }
   ],
   "source": [
    "action_dict"
   ]
  },
  {
   "cell_type": "code",
   "execution_count": 4,
   "metadata": {},
   "outputs": [],
   "source": [
    "a = np.load(\"episodes/1/human_obs\", allow_pickle=True)\n",
    "b = np.load(\"episodes/1/human_obs\", allow_pickle=True)"
   ]
  },
  {
   "cell_type": "code",
   "execution_count": 56,
   "metadata": {},
   "outputs": [],
   "source": [
    "# concatenate a, b\n",
    "c = np.concatenate([a], axis=0)"
   ]
  },
  {
   "cell_type": "code",
   "execution_count": 21,
   "metadata": {},
   "outputs": [
    {
     "data": {
      "text/plain": [
       "1440"
      ]
     },
     "execution_count": 21,
     "metadata": {},
     "output_type": "execute_result"
    }
   ],
   "source": [
    "len(c)"
   ]
  },
  {
   "cell_type": "code",
   "execution_count": 22,
   "metadata": {},
   "outputs": [],
   "source": [
    "import json"
   ]
  },
  {
   "cell_type": "code",
   "execution_count": 14,
   "metadata": {},
   "outputs": [
    {
     "name": "stdout",
     "output_type": "stream",
     "text": [
      "[{'0': {'human': {'life': 20.0, 'action': {'ESC': 0, 'attack': 0, 'back': 1, 'drop': 0, 'forward': 0, 'hotbar.1': 0, 'hotbar.2': 0, 'hotbar.3': 0, 'hotbar.4': 0, 'hotbar.5': 0, 'hotbar.6': 0, 'hotbar.7': 0, 'hotbar.8': 0, 'hotbar.9': 0, 'inventory': 0, 'jump': 0, 'left': 0, 'pickItem': 0, 'right': 0, 'sneak': 0, 'sprint': 0, 'swapHands': 0, 'use': 0, 'camera': [-0.2999999999999999, 1.7]}}, 'ai': {'life': 20.0}}}, {'1': {'human': {'life': 20.0, 'action': {'ESC': 0, 'attack': 0, 'back': 1, 'drop': 0, 'forward': 0, 'hotbar.1': 0, 'hotbar.2': 0, 'hotbar.3': 0, 'hotbar.4': 0, 'hotbar.5': 0, 'hotbar.6': 0, 'hotbar.7': 0, 'hotbar.8': 0, 'hotbar.9': 0, 'inventory': 0, 'jump': 0, 'left': 0, 'pickItem': 0, 'right': 0, 'sneak': 0, 'sprint': 0, 'swapHands': 0, 'use': 0, 'camera': [-0.4, -0.1]}}, 'ai': {'life': 20.0}}}, {'2': {'human': {'life': 20.0, 'action': {'ESC': 0, 'attack': 0, 'back': 1, 'drop': 0, 'forward': 0, 'hotbar.1': 0, 'hotbar.2': 0, 'hotbar.3': 0, 'hotbar.4': 0, 'hotbar.5': 0, 'hotbar.6': 0, 'hotbar.7': 0, 'hotbar.8': 0, 'hotbar.9': 0, 'inventory': 0, 'jump': 0, 'left': 0, 'pickItem': 0, 'right': 0, 'sneak': 0, 'sprint': 0, 'swapHands': 0, 'use': 0, 'camera': [-0.5, -0.5]}}, 'ai': {'life': 20.0}}}, {'3': {'human': {'life': 20.0, 'action': {'ESC': 0, 'attack': 0, 'back': 1, 'drop': 0, 'forward': 0, 'hotbar.1': 0, 'hotbar.2': 0, 'hotbar.3': 0, 'hotbar.4': 0, 'hotbar.5': 0, 'hotbar.6': 0, 'hotbar.7': 0, 'hotbar.8': 0, 'hotbar.9': 0, 'inventory': 0, 'jump': 0, 'left': 0, 'pickItem': 0, 'right': 0, 'sneak': 0, 'sprint': 0, 'swapHands': 0, 'use': 0, 'camera': [-0.1, -0.7]}}, 'ai': {'life': 20.0}}}, {'4': {'human': {'life': 20.0, 'action': {'ESC': 0, 'attack': 0, 'back': 0, 'drop': 0, 'forward': 0, 'hotbar.1': 0, 'hotbar.2': 0, 'hotbar.3': 0, 'hotbar.4': 0, 'hotbar.5': 0, 'hotbar.6': 0, 'hotbar.7': 0, 'hotbar.8': 0, 'hotbar.9': 0, 'inventory': 0, 'jump': 0, 'left': 0, 'pickItem': 0, 'right': 0, 'sneak': 0, 'sprint': 0, 'swapHands': 0, 'use': 0, 'camera': [0.0, -0.2]}}, 'ai': {'life': 20.0}}}, {'5': {'human': {'life': 20.0, 'action': {'ESC': 0, 'attack': 0, 'back': 0, 'drop': 0, 'forward': 0, 'hotbar.1': 0, 'hotbar.2': 0, 'hotbar.3': 0, 'hotbar.4': 0, 'hotbar.5': 0, 'hotbar.6': 0, 'hotbar.7': 0, 'hotbar.8': 0, 'hotbar.9': 0, 'inventory': 0, 'jump': 0, 'left': 0, 'pickItem': 0, 'right': 0, 'sneak': 0, 'sprint': 0, 'swapHands': 0, 'use': 0, 'camera': [0.0, -0.1]}}, 'ai': {'life': 20.0}}}, {'6': {'human': {'life': 20.0, 'action': {'ESC': 0, 'attack': 0, 'back': 0, 'drop': 0, 'forward': 0, 'hotbar.1': 0, 'hotbar.2': 0, 'hotbar.3': 0, 'hotbar.4': 0, 'hotbar.5': 0, 'hotbar.6': 0, 'hotbar.7': 0, 'hotbar.8': 0, 'hotbar.9': 0, 'inventory': 0, 'jump': 0, 'left': 0, 'pickItem': 0, 'right': 0, 'sneak': 0, 'sprint': 0, 'swapHands': 0, 'use': 0, 'camera': [0.0, -0.1]}}, 'ai': {'life': 20.0}}}, {'7': {'human': {'life': 20.0, 'action': {'ESC': 0, 'attack': 0, 'back': 0, 'drop': 0, 'forward': 0, 'hotbar.1': 0, 'hotbar.2': 0, 'hotbar.3': 0, 'hotbar.4': 0, 'hotbar.5': 0, 'hotbar.6': 0, 'hotbar.7': 0, 'hotbar.8': 0, 'hotbar.9': 0, 'inventory': 0, 'jump': 0, 'left': 0, 'pickItem': 0, 'right': 0, 'sneak': 0, 'sprint': 0, 'swapHands': 0, 'use': 0, 'camera': [0, 0]}}, 'ai': {'life': 20.0}}}, {'8': {'human': {'life': 20.0, 'action': {'ESC': 0, 'attack': 0, 'back': 0, 'drop': 0, 'forward': 0, 'hotbar.1': 0, 'hotbar.2': 0, 'hotbar.3': 0, 'hotbar.4': 0, 'hotbar.5': 0, 'hotbar.6': 0, 'hotbar.7': 0, 'hotbar.8': 0, 'hotbar.9': 0, 'inventory': 0, 'jump': 0, 'left': 0, 'pickItem': 0, 'right': 0, 'sneak': 0, 'sprint': 0, 'swapHands': 0, 'use': 0, 'camera': [0, 0]}}, 'ai': {'life': 20.0}}}, {'9': {'human': {'life': 20.0, 'action': {'ESC': 0, 'attack': 0, 'back': 0, 'drop': 0, 'forward': 1, 'hotbar.1': 0, 'hotbar.2': 0, 'hotbar.3': 0, 'hotbar.4': 0, 'hotbar.5': 0, 'hotbar.6': 0, 'hotbar.7': 0, 'hotbar.8': 0, 'hotbar.9': 0, 'inventory': 0, 'jump': 0, 'left': 0, 'pickItem': 0, 'right': 0, 'sneak': 0, 'sprint': 0, 'swapHands': 0, 'use': 0, 'camera': [0, 0]}}, 'ai': {'life': 20.0}}}, {'10': {'human': {'life': 20.0, 'action': {'ESC': 0, 'attack': 0, 'back': 0, 'drop': 0, 'forward': 1, 'hotbar.1': 0, 'hotbar.2': 0, 'hotbar.3': 0, 'hotbar.4': 0, 'hotbar.5': 0, 'hotbar.6': 0, 'hotbar.7': 0, 'hotbar.8': 0, 'hotbar.9': 0, 'inventory': 0, 'jump': 0, 'left': 0, 'pickItem': 0, 'right': 0, 'sneak': 0, 'sprint': 0, 'swapHands': 0, 'use': 0, 'camera': [0, 0]}}, 'ai': {'life': 20.0}}}, {'11': {'human': {'life': 20.0, 'action': {'ESC': 0, 'attack': 0, 'back': 0, 'drop': 0, 'forward': 1, 'hotbar.1': 0, 'hotbar.2': 0, 'hotbar.3': 0, 'hotbar.4': 0, 'hotbar.5': 0, 'hotbar.6': 0, 'hotbar.7': 0, 'hotbar.8': 0, 'hotbar.9': 0, 'inventory': 0, 'jump': 0, 'left': 0, 'pickItem': 0, 'right': 0, 'sneak': 0, 'sprint': 0, 'swapHands': 0, 'use': 0, 'camera': [0, 0]}}, 'ai': {'life': 20.0}}}, {'12': {'human': {'life': 20.0, 'action': {'ESC': 0, 'attack': 0, 'back': 0, 'drop': 0, 'forward': 1, 'hotbar.1': 0, 'hotbar.2': 0, 'hotbar.3': 0, 'hotbar.4': 0, 'hotbar.5': 0, 'hotbar.6': 0, 'hotbar.7': 0, 'hotbar.8': 0, 'hotbar.9': 0, 'inventory': 0, 'jump': 0, 'left': 0, 'pickItem': 0, 'right': 0, 'sneak': 0, 'sprint': 0, 'swapHands': 0, 'use': 0, 'camera': [0, 0]}}, 'ai': {'life': 20.0}}}, {'13': {'human': {'life': 20.0, 'action': {'ESC': 0, 'attack': 0, 'back': 0, 'drop': 0, 'forward': 1, 'hotbar.1': 0, 'hotbar.2': 0, 'hotbar.3': 0, 'hotbar.4': 0, 'hotbar.5': 0, 'hotbar.6': 0, 'hotbar.7': 0, 'hotbar.8': 0, 'hotbar.9': 0, 'inventory': 0, 'jump': 0, 'left': 0, 'pickItem': 0, 'right': 0, 'sneak': 0, 'sprint': 0, 'swapHands': 0, 'use': 0, 'camera': [0, 0]}}, 'ai': {'life': 20.0}}}, {'14': {'human': {'life': 20.0, 'action': {'ESC': 0, 'attack': 0, 'back': 0, 'drop': 0, 'forward': 1, 'hotbar.1': 0, 'hotbar.2': 0, 'hotbar.3': 0, 'hotbar.4': 0, 'hotbar.5': 0, 'hotbar.6': 0, 'hotbar.7': 0, 'hotbar.8': 0, 'hotbar.9': 0, 'inventory': 0, 'jump': 0, 'left': 0, 'pickItem': 0, 'right': 0, 'sneak': 0, 'sprint': 0, 'swapHands': 0, 'use': 0, 'camera': [0, 0]}}, 'ai': {'life': 20.0}}}, {'15': {'human': {'life': 20.0, 'action': {'ESC': 0, 'attack': 0, 'back': 0, 'drop': 0, 'forward': 1, 'hotbar.1': 0, 'hotbar.2': 0, 'hotbar.3': 0, 'hotbar.4': 0, 'hotbar.5': 0, 'hotbar.6': 0, 'hotbar.7': 0, 'hotbar.8': 0, 'hotbar.9': 0, 'inventory': 0, 'jump': 0, 'left': 0, 'pickItem': 0, 'right': 0, 'sneak': 0, 'sprint': 0, 'swapHands': 0, 'use': 0, 'camera': [0, 0]}}, 'ai': {'life': 20.0}}}, {'16': {'human': {'life': 20.0, 'action': {'ESC': 0, 'attack': 0, 'back': 0, 'drop': 0, 'forward': 1, 'hotbar.1': 0, 'hotbar.2': 0, 'hotbar.3': 0, 'hotbar.4': 0, 'hotbar.5': 0, 'hotbar.6': 0, 'hotbar.7': 0, 'hotbar.8': 0, 'hotbar.9': 0, 'inventory': 0, 'jump': 0, 'left': 0, 'pickItem': 0, 'right': 0, 'sneak': 0, 'sprint': 0, 'swapHands': 0, 'use': 0, 'camera': [-0.5, -1.0999999999999999]}}, 'ai': {'life': 20.0}}}, {'17': {'human': {'life': 20.0, 'action': {'ESC': 0, 'attack': 0, 'back': 0, 'drop': 0, 'forward': 1, 'hotbar.1': 0, 'hotbar.2': 0, 'hotbar.3': 0, 'hotbar.4': 0, 'hotbar.5': 0, 'hotbar.6': 0, 'hotbar.7': 0, 'hotbar.8': 0, 'hotbar.9': 0, 'inventory': 0, 'jump': 0, 'left': 0, 'pickItem': 0, 'right': 0, 'sneak': 0, 'sprint': 0, 'swapHands': 0, 'use': 0, 'camera': [-0.1, -0.30000000000000004]}}, 'ai': {'life': 20.0}}}, {'18': {'human': {'life': 20.0, 'action': {'ESC': 0, 'attack': 0, 'back': 0, 'drop': 0, 'forward': 1, 'hotbar.1': 0, 'hotbar.2': 0, 'hotbar.3': 0, 'hotbar.4': 0, 'hotbar.5': 0, 'hotbar.6': 0, 'hotbar.7': 0, 'hotbar.8': 0, 'hotbar.9': 0, 'inventory': 0, 'jump': 0, 'left': 0, 'pickItem': 0, 'right': 0, 'sneak': 0, 'sprint': 0, 'swapHands': 0, 'use': 0, 'camera': [0, 0]}}, 'ai': {'life': 20.0}}}, {'19': {'human': {'life': 20.0, 'action': {'ESC': 0, 'attack': 0, 'back': 0, 'drop': 0, 'forward': 1, 'hotbar.1': 0, 'hotbar.2': 0, 'hotbar.3': 0, 'hotbar.4': 0, 'hotbar.5': 0, 'hotbar.6': 0, 'hotbar.7': 0, 'hotbar.8': 0, 'hotbar.9': 0, 'inventory': 0, 'jump': 0, 'left': 0, 'pickItem': 0, 'right': 0, 'sneak': 0, 'sprint': 0, 'swapHands': 0, 'use': 0, 'camera': [-0.1, 0.0]}}, 'ai': {'life': 20.0}}}, {'20': {'human': {'life': 20.0, 'action': {'ESC': 0, 'attack': 1, 'back': 0, 'drop': 0, 'forward': 1, 'hotbar.1': 0, 'hotbar.2': 0, 'hotbar.3': 0, 'hotbar.4': 0, 'hotbar.5': 0, 'hotbar.6': 0, 'hotbar.7': 0, 'hotbar.8': 0, 'hotbar.9': 0, 'inventory': 0, 'jump': 0, 'left': 0, 'pickItem': 0, 'right': 0, 'sneak': 0, 'sprint': 0, 'swapHands': 0, 'use': 0, 'camera': [-0.1, 0.0]}}, 'ai': {'life': 20.0}}}, {'21': {'human': {'life': 20.0, 'action': {'ESC': 0, 'attack': 1, 'back': 0, 'drop': 0, 'forward': 0, 'hotbar.1': 0, 'hotbar.2': 0, 'hotbar.3': 0, 'hotbar.4': 0, 'hotbar.5': 0, 'hotbar.6': 0, 'hotbar.7': 0, 'hotbar.8': 0, 'hotbar.9': 0, 'inventory': 0, 'jump': 0, 'left': 0, 'pickItem': 0, 'right': 0, 'sneak': 0, 'sprint': 0, 'swapHands': 0, 'use': 0, 'camera': [1.2, -0.6]}}, 'ai': {'life': 14.0}}}, {'22': {'human': {'life': 20.0, 'action': {'ESC': 0, 'attack': 1, 'back': 0, 'drop': 0, 'forward': 0, 'hotbar.1': 0, 'hotbar.2': 0, 'hotbar.3': 0, 'hotbar.4': 0, 'hotbar.5': 0, 'hotbar.6': 0, 'hotbar.7': 0, 'hotbar.8': 0, 'hotbar.9': 0, 'inventory': 0, 'jump': 0, 'left': 0, 'pickItem': 0, 'right': 0, 'sneak': 0, 'sprint': 0, 'swapHands': 0, 'use': 0, 'camera': [1.7000000000000004, -0.8999999999999999]}}, 'ai': {'life': 14.0}}}, {'23': {'human': {'life': 20.0, 'action': {'ESC': 0, 'attack': 1, 'back': 0, 'drop': 0, 'forward': 0, 'hotbar.1': 0, 'hotbar.2': 0, 'hotbar.3': 0, 'hotbar.4': 0, 'hotbar.5': 0, 'hotbar.6': 0, 'hotbar.7': 0, 'hotbar.8': 0, 'hotbar.9': 0, 'inventory': 0, 'jump': 0, 'left': 0, 'pickItem': 0, 'right': 1, 'sneak': 0, 'sprint': 0, 'swapHands': 0, 'use': 0, 'camera': [0.0, -0.5]}}, 'ai': {'life': 14.0}}}, {'24': {'human': {'life': 20.0, 'action': {'ESC': 0, 'attack': 0, 'back': 0, 'drop': 0, 'forward': 0, 'hotbar.1': 0, 'hotbar.2': 0, 'hotbar.3': 0, 'hotbar.4': 0, 'hotbar.5': 0, 'hotbar.6': 0, 'hotbar.7': 0, 'hotbar.8': 0, 'hotbar.9': 0, 'inventory': 0, 'jump': 0, 'left': 0, 'pickItem': 0, 'right': 1, 'sneak': 0, 'sprint': 0, 'swapHands': 0, 'use': 0, 'camera': [-0.5, -3.200000000000001]}}, 'ai': {'life': 14.0}}}, {'25': {'human': {'life': 20.0, 'action': {'ESC': 0, 'attack': 0, 'back': 0, 'drop': 0, 'forward': 0, 'hotbar.1': 0, 'hotbar.2': 0, 'hotbar.3': 0, 'hotbar.4': 0, 'hotbar.5': 0, 'hotbar.6': 0, 'hotbar.7': 0, 'hotbar.8': 0, 'hotbar.9': 0, 'inventory': 0, 'jump': 0, 'left': 0, 'pickItem': 0, 'right': 0, 'sneak': 0, 'sprint': 0, 'swapHands': 0, 'use': 0, 'camera': [-0.7, -3.3000000000000016]}}, 'ai': {'life': 14.0}}}, {'26': {'human': {'life': 20.0, 'action': {'ESC': 0, 'attack': 0, 'back': 0, 'drop': 0, 'forward': 0, 'hotbar.1': 0, 'hotbar.2': 0, 'hotbar.3': 0, 'hotbar.4': 0, 'hotbar.5': 0, 'hotbar.6': 0, 'hotbar.7': 0, 'hotbar.8': 0, 'hotbar.9': 0, 'inventory': 0, 'jump': 0, 'left': 0, 'pickItem': 0, 'right': 0, 'sneak': 0, 'sprint': 0, 'swapHands': 0, 'use': 0, 'camera': [-0.2, -2.7]}}, 'ai': {'life': 14.0}}}, {'27': {'human': {'life': 20.0, 'action': {'ESC': 0, 'attack': 0, 'back': 0, 'drop': 0, 'forward': 1, 'hotbar.1': 0, 'hotbar.2': 0, 'hotbar.3': 0, 'hotbar.4': 0, 'hotbar.5': 0, 'hotbar.6': 0, 'hotbar.7': 0, 'hotbar.8': 0, 'hotbar.9': 0, 'inventory': 0, 'jump': 0, 'left': 1, 'pickItem': 0, 'right': 0, 'sneak': 0, 'sprint': 0, 'swapHands': 0, 'use': 0, 'camera': [0.0, -2.500000000000001]}}, 'ai': {'life': 14.0}}}, {'28': {'human': {'life': 20.0, 'action': {'ESC': 0, 'attack': 0, 'back': 0, 'drop': 0, 'forward': 1, 'hotbar.1': 0, 'hotbar.2': 0, 'hotbar.3': 0, 'hotbar.4': 0, 'hotbar.5': 0, 'hotbar.6': 0, 'hotbar.7': 0, 'hotbar.8': 0, 'hotbar.9': 0, 'inventory': 0, 'jump': 0, 'left': 1, 'pickItem': 0, 'right': 0, 'sneak': 0, 'sprint': 0, 'swapHands': 0, 'use': 0, 'camera': [0, 0]}}, 'ai': {'life': 14.0}}}, {'29': {'human': {'life': 20.0, 'action': {'ESC': 0, 'attack': 0, 'back': 0, 'drop': 0, 'forward': 1, 'hotbar.1': 0, 'hotbar.2': 0, 'hotbar.3': 0, 'hotbar.4': 0, 'hotbar.5': 0, 'hotbar.6': 0, 'hotbar.7': 0, 'hotbar.8': 0, 'hotbar.9': 0, 'inventory': 0, 'jump': 0, 'left': 1, 'pickItem': 0, 'right': 0, 'sneak': 0, 'sprint': 0, 'swapHands': 0, 'use': 0, 'camera': [0, 0]}}, 'ai': {'life': 14.0}}}, {'30': {'human': {'life': 20.0, 'action': {'ESC': 0, 'attack': 0, 'back': 0, 'drop': 0, 'forward': 1, 'hotbar.1': 0, 'hotbar.2': 0, 'hotbar.3': 0, 'hotbar.4': 0, 'hotbar.5': 0, 'hotbar.6': 0, 'hotbar.7': 0, 'hotbar.8': 0, 'hotbar.9': 0, 'inventory': 0, 'jump': 0, 'left': 1, 'pickItem': 0, 'right': 0, 'sneak': 0, 'sprint': 0, 'swapHands': 0, 'use': 0, 'camera': [0.0, -0.1]}}, 'ai': {'life': 14.0}}}, {'31': {'human': {'life': 20.0, 'action': {'ESC': 0, 'attack': 0, 'back': 0, 'drop': 0, 'forward': 1, 'hotbar.1': 0, 'hotbar.2': 0, 'hotbar.3': 0, 'hotbar.4': 0, 'hotbar.5': 0, 'hotbar.6': 0, 'hotbar.7': 0, 'hotbar.8': 0, 'hotbar.9': 0, 'inventory': 0, 'jump': 0, 'left': 1, 'pickItem': 0, 'right': 0, 'sneak': 0, 'sprint': 0, 'swapHands': 0, 'use': 0, 'camera': [-0.2, -0.20000000000000004]}}, 'ai': {'life': 14.0}}}, {'32': {'human': {'life': 20.0, 'action': {'ESC': 0, 'attack': 0, 'back': 0, 'drop': 0, 'forward': 1, 'hotbar.1': 0, 'hotbar.2': 0, 'hotbar.3': 0, 'hotbar.4': 0, 'hotbar.5': 0, 'hotbar.6': 0, 'hotbar.7': 0, 'hotbar.8': 0, 'hotbar.9': 0, 'inventory': 0, 'jump': 0, 'left': 1, 'pickItem': 0, 'right': 0, 'sneak': 0, 'sprint': 0, 'swapHands': 0, 'use': 0, 'camera': [-0.2, 0.2]}}, 'ai': {'life': 14.0}}}, {'33': {'human': {'life': 20.0, 'action': {'ESC': 0, 'attack': 0, 'back': 0, 'drop': 0, 'forward': 1, 'hotbar.1': 0, 'hotbar.2': 0, 'hotbar.3': 0, 'hotbar.4': 0, 'hotbar.5': 0, 'hotbar.6': 0, 'hotbar.7': 0, 'hotbar.8': 0, 'hotbar.9': 0, 'inventory': 0, 'jump': 0, 'left': 0, 'pickItem': 0, 'right': 0, 'sneak': 0, 'sprint': 0, 'swapHands': 0, 'use': 0, 'camera': [-0.2, 2.1000000000000005]}}, 'ai': {'life': 14.0}}}, {'34': {'human': {'life': 20.0, 'action': {'ESC': 0, 'attack': 1, 'back': 0, 'drop': 0, 'forward': 1, 'hotbar.1': 0, 'hotbar.2': 0, 'hotbar.3': 0, 'hotbar.4': 0, 'hotbar.5': 0, 'hotbar.6': 0, 'hotbar.7': 0, 'hotbar.8': 0, 'hotbar.9': 0, 'inventory': 0, 'jump': 0, 'left': 0, 'pickItem': 0, 'right': 0, 'sneak': 0, 'sprint': 0, 'swapHands': 0, 'use': 0, 'camera': [1.3, -3.4000000000000012]}}, 'ai': {'life': 14.0}}}, {'35': {'human': {'life': 20.0, 'action': {'ESC': 0, 'attack': 1, 'back': 0, 'drop': 0, 'forward': 1, 'hotbar.1': 0, 'hotbar.2': 0, 'hotbar.3': 0, 'hotbar.4': 0, 'hotbar.5': 0, 'hotbar.6': 0, 'hotbar.7': 0, 'hotbar.8': 0, 'hotbar.9': 0, 'inventory': 0, 'jump': 0, 'left': 0, 'pickItem': 0, 'right': 0, 'sneak': 0, 'sprint': 0, 'swapHands': 0, 'use': 0, 'camera': [1.7, -5.8]}}, 'ai': {'life': 8.0}}}]\n"
     ]
    }
   ],
   "source": [
    "with open(\"episodes/3/stats.json\", \"r\") as f:\n",
    "    data = json.load(f)\n",
    "    print(data)\n",
    "# json.loads()"
   ]
  },
  {
   "cell_type": "code",
   "execution_count": 45,
   "metadata": {},
   "outputs": [
    {
     "data": {
      "text/plain": [
       "{'human': {'life': 20.0,\n",
       "  'action': {'ESC': 0,\n",
       "   'attack': 0,\n",
       "   'back': 0,\n",
       "   'drop': 0,\n",
       "   'forward': 0,\n",
       "   'hotbar.1': 0,\n",
       "   'hotbar.2': 0,\n",
       "   'hotbar.3': 0,\n",
       "   'hotbar.4': 0,\n",
       "   'hotbar.5': 0,\n",
       "   'hotbar.6': 0,\n",
       "   'hotbar.7': 0,\n",
       "   'hotbar.8': 0,\n",
       "   'hotbar.9': 0,\n",
       "   'inventory': 0,\n",
       "   'jump': 0,\n",
       "   'left': 0,\n",
       "   'pickItem': 0,\n",
       "   'right': 0,\n",
       "   'sneak': 0,\n",
       "   'sprint': 0,\n",
       "   'swapHands': 0,\n",
       "   'use': 0,\n",
       "   'camera': [0.5, 3.900000000000002]}},\n",
       " 'ai': {'life': 20.0}}"
      ]
     },
     "execution_count": 45,
     "metadata": {},
     "output_type": "execute_result"
    }
   ],
   "source": [
    "data[0][\"0\"]\n",
    "# allowed_actions = [\"attack\", \"back\", \"forward\", \"jump\", \"left\", \"right\", \"camera\"]\n",
    "# actions = dict((k, data[k]) for k in allowed_actions)\n"
   ]
  },
  {
   "cell_type": "code",
   "execution_count": 52,
   "metadata": {},
   "outputs": [
    {
     "data": {
      "text/plain": [
       "{'attack': 0,\n",
       " 'back': 0,\n",
       " 'forward': 0,\n",
       " 'jump': 0,\n",
       " 'left': 0,\n",
       " 'right': 0,\n",
       " 'camera': [0.5, 3.900000000000002]}"
      ]
     },
     "execution_count": 52,
     "metadata": {},
     "output_type": "execute_result"
    }
   ],
   "source": [
    "subdict = {x: data[0][\"0\"][\"human\"][\"action\"][x] for x in allowed_actions if x in data[0][\"0\"][\"human\"][\"action\"]}\n",
    "subdict"
   ]
  },
  {
   "cell_type": "code",
   "execution_count": 54,
   "metadata": {},
   "outputs": [
    {
     "data": {
      "text/plain": [
       "42"
      ]
     },
     "execution_count": 54,
     "metadata": {},
     "output_type": "execute_result"
    }
   ],
   "source": []
  }
 ],
 "metadata": {
  "kernelspec": {
   "display_name": "rllib",
   "language": "python",
   "name": "python3"
  },
  "language_info": {
   "codemirror_mode": {
    "name": "ipython",
    "version": 3
   },
   "file_extension": ".py",
   "mimetype": "text/x-python",
   "name": "python",
   "nbconvert_exporter": "python",
   "pygments_lexer": "ipython3",
   "version": "3.8.12"
  },
  "orig_nbformat": 4,
  "vscode": {
   "interpreter": {
    "hash": "532c813673eef5c74a2e4a8215416f5d0a37912729a4c5884f5eb34218eb68ae"
   }
  }
 },
 "nbformat": 4,
 "nbformat_minor": 2
}
